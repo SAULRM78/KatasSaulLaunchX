{
 "cells": [
  {
   "cell_type": "markdown",
   "metadata": {},
   "source": [
    "# Microsoft Windows [Versión 10.0.19042.1526]\n",
    "(c) Microsoft Corporation. Todos los derechos reservados.\n",
    "\n",
    "C:\\Users\\Saulr>python3 -m venv env"
   ]
  },
  {
   "cell_type": "markdown",
   "metadata": {},
   "source": [
    "# C:\\Users\\Saulr>env\\Scripts\\activate\n",
    "\n",
    "(env) C:\\Users\\Saulr>pip freeze"
   ]
  },
  {
   "cell_type": "markdown",
   "metadata": {},
   "source": [
    "# (env) C:\\Users\\Saulr>pip install python-dateutil\n",
    "Collecting python-dateutil\n",
    "  Using cached python_dateutil-2.8.2-py2.py3-none-any.whl (247 kB)\n",
    "Collecting six>=1.5\n",
    "  Using cached six-1.16.0-py2.py3-none-any.whl (11 kB)\n",
    "Installing collected packages: six, python-dateutil\n",
    "Successfully installed python-dateutil-2.8.2 six-1.16.0\n",
    "WARNING: You are using pip version 21.2.4; however, version 22.0.3 is available.\n",
    "You should consider upgrading via the 'C:\\Users\\Saulr\\env\\Scripts\\python.exe -m pip install --upgrade pip' command."
   ]
  },
  {
   "cell_type": "markdown",
   "metadata": {},
   "source": [
    "# (env) C:\\Users\\Saulr>pip freeze\n",
    "python-dateutil==2.8.2\n",
    "six==1.16.0"
   ]
  },
  {
   "cell_type": "markdown",
   "metadata": {},
   "source": [
    "# (env) C:\\Users\\Saulr>deactivate\n",
    "C:\\Users\\Saulr>"
   ]
  }
 ],
 "metadata": {
  "language_info": {
   "name": "python"
  },
  "orig_nbformat": 4
 },
 "nbformat": 4,
 "nbformat_minor": 2
}
